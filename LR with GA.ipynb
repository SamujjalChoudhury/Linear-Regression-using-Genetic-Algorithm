{
 "cells": [
  {
   "cell_type": "code",
   "execution_count": 1,
   "id": "8c486ec8-f16c-4e17-8695-957a9ec09091",
   "metadata": {},
   "outputs": [],
   "source": [
    "import random\n",
    "import time\n",
    "import numpy as np\n",
    "from tqdm import tqdm\n",
    "import matplotlib.pyplot as plt"
   ]
  },
  {
   "cell_type": "markdown",
   "id": "35a3e3ed-4038-48fa-8cab-9bb46e1344dc",
   "metadata": {},
   "source": [
    "#### Number conversion"
   ]
  },
  {
   "cell_type": "code",
   "execution_count": 5,
   "id": "904ef839-8126-4578-93fe-136ae34afb7d",
   "metadata": {},
   "outputs": [],
   "source": [
    "def bin_to_dec(bArray, length=16, min_val=-20, max_val=20):\n",
    "    int_val = 0\n",
    "    for i in range(length):\n",
    "        int_val = (int_val << 1) | bArray[i]\n",
    "    max_int_val = (1 << length) - 1\n",
    "    return min_val + (float(int_val) / max_int_val) * (max_val - min_val)\n",
    "\n",
    "def dec_to_bin(value, min_val, max_val, length):\n",
    "    normalized_val = (value - min_val) / (max_val - min_val)\n",
    "    int_val = int(normalized_val * ((1 << length) - 1))\n",
    "    bArray = np.zeros(length, dtype=int)\n",
    "    for i in range(length - 1, -1, -1):\n",
    "        bArray[i] = int_val & 1\n",
    "        int_val >>= 1\n",
    "    return bArray"
   ]
  },
  {
   "cell_type": "markdown",
   "id": "70cb4739-72e1-4eab-87fd-cb72c8b1bffc",
   "metadata": {},
   "source": [
    "#### Initialize Population"
   ]
  },
  {
   "cell_type": "code",
   "execution_count": 6,
   "id": "2be17c96-6195-4188-a0b0-7806aabeb973",
   "metadata": {},
   "outputs": [],
   "source": [
    "def init_pop(popSize, geneLen):\n",
    "    population = np.random.randint(0, 2, (popSize, geneLen))\n",
    "    return population"
   ]
  },
  {
   "cell_type": "markdown",
   "id": "6c5259c5-4dba-4571-b599-7cd6e80dd1ea",
   "metadata": {},
   "source": [
    "#### Fitness function"
   ]
  },
  {
   "cell_type": "code",
   "execution_count": 7,
   "id": "86ccf54b-f122-4b8d-b6dc-90873a648f16",
   "metadata": {},
   "outputs": [],
   "source": [
    "def sse(y, y_hat):\n",
    "    total = 0.001\n",
    "    err = y - y_hat\n",
    "    total += np.sum(err ** 2)\n",
    "    return total\n",
    "\n",
    "def cal_fitness(x, y, w, b):\n",
    "    y_hat = (w * x) + b\n",
    "    return 1 / sse(y, y_hat)"
   ]
  },
  {
   "cell_type": "markdown",
   "id": "a5677ab1-1388-4dd8-a5a7-f27cbac66d08",
   "metadata": {},
   "source": [
    "#### Selection"
   ]
  },
  {
   "cell_type": "code",
   "execution_count": 8,
   "id": "763a7b58-aa95-4c7d-905b-536203e41d24",
   "metadata": {},
   "outputs": [],
   "source": [
    "def roulette_wheel_selection(fitness, popSize, pool_size):\n",
    "    total = np.sum(fitness) + 0.00001\n",
    "    \n",
    "    cummFitness = np.zeros(popSize)\n",
    "    \n",
    "    # Calculate cumulative fitness\n",
    "    temp = 0\n",
    "    for i in range(popSize):\n",
    "        cummFitness[i] = ((fitness[i] / total) * 100) + temp\n",
    "        temp = cummFitness[i]\n",
    "    \n",
    "    pool = np.zeros(pool_size, dtype=int)\n",
    "\n",
    "    # Perform selection\n",
    "    for j in range(pool_size):\n",
    "        rand_num = random.uniform(1, 100)\n",
    "        temp = 1\n",
    "        for i in range(popSize):\n",
    "            if temp <= rand_num < cummFitness[i]:\n",
    "                pool[j] = i\n",
    "                break\n",
    "            temp = cummFitness[i] + 1\n",
    "    \n",
    "    return pool"
   ]
  },
  {
   "cell_type": "markdown",
   "id": "e15b3979-59cb-4b83-950c-2d408fffd9dc",
   "metadata": {},
   "source": [
    "#### Crossover"
   ]
  },
  {
   "cell_type": "code",
   "execution_count": 9,
   "id": "b4bd471d-9ce2-4656-8bca-37304c5436ce",
   "metadata": {},
   "outputs": [],
   "source": [
    "def crossover(parent1, parent2, length, cp=0.7):\n",
    "    child1 = np.zeros(length, dtype=int)\n",
    "    child2 = np.zeros(length, dtype=int)\n",
    "    \n",
    "    if random.uniform(0, 1) <= cp:\n",
    "        temp = random.randint(1, length - 1) \n",
    "        child1[:temp] = parent1[:temp]\n",
    "        child2[:temp] = parent2[:temp]\n",
    "        child1[temp:] = parent2[temp:]\n",
    "        child2[temp:] = parent1[temp:]\n",
    "    else:\n",
    "        child1[:] = parent1[:]\n",
    "        child2[:] = parent2[:]\n",
    "\n",
    "    return child1, child2"
   ]
  },
  {
   "cell_type": "markdown",
   "id": "43fdff02-cd21-42f9-9160-e2af3c485481",
   "metadata": {},
   "source": [
    "#### Mutation"
   ]
  },
  {
   "cell_type": "code",
   "execution_count": 10,
   "id": "b1e5084c-45dd-43ae-8654-0137b4df7c05",
   "metadata": {},
   "outputs": [],
   "source": [
    "def mutation(chromosome, length, mp=0.1):\n",
    "    for i in range(length):\n",
    "        if random.uniform(0, 1) < mp:\n",
    "            chromosome[i] = 1 - chromosome[i]\n",
    "    return chromosome"
   ]
  },
  {
   "cell_type": "markdown",
   "id": "0f7b6352-30fd-47f1-ad6a-a0390d6b2ca4",
   "metadata": {},
   "source": [
    "#### Hyperparameters"
   ]
  },
  {
   "cell_type": "code",
   "execution_count": 11,
   "id": "c316d723-1019-4119-969a-8799f106a672",
   "metadata": {},
   "outputs": [],
   "source": [
    "geneLen = 16\n",
    "popSize = 1000\n",
    "generation = 1000\n",
    "pool_size = 100\n",
    "cross_prob = 0.7\n",
    "mut_prob = 0.1\n",
    "min_val = -5\n",
    "max_val = 5\n",
    "fitness = np.full(popSize, -1.1)"
   ]
  },
  {
   "cell_type": "code",
   "execution_count": 12,
   "id": "623c2ce8-45d6-4af6-a46c-3441284d8ebe",
   "metadata": {},
   "outputs": [],
   "source": [
    "# Points\n",
    "X = np.array([1, 2, 3, 4, 5])\n",
    "Y = np.array([2, 3, 5, 7, 8])"
   ]
  },
  {
   "cell_type": "code",
   "execution_count": 13,
   "id": "9f461f96-d991-4b94-aad9-f8f7593932ab",
   "metadata": {},
   "outputs": [
    {
     "data": {
      "image/png": "[encoded data removed]",
      "text/plain": [
       "<Figure size 640x480 with 1 Axes>"
      ]
     },
     "metadata": {},
     "output_type": "display_data"
    }
   ],
   "source": [
    "plt.scatter(X, Y, color='blue', label='Data points')\n",
    "plt.xlabel('X-axis')\n",
    "plt.ylabel('Y-axis')\n",
    "plt.show()"
   ]
  },
  {
   "cell_type": "markdown",
   "id": "46bd5124-298f-4509-9e5a-7f5db0f64c73",
   "metadata": {},
   "source": [
    "#### GA"
   ]
  },
  {
   "cell_type": "code",
   "execution_count": 29,
   "id": "3065f21b-4248-4114-9f85-5650457e5bc8",
   "metadata": {},
   "outputs": [
    {
     "name": "stderr",
     "output_type": "stream",
     "text": [
      "100%|██████████████████████████████████████████████████████████████████████████████| 1000/1000 [00:48<00:00, 20.79it/s]\n"
     ]
    }
   ],
   "source": [
    "pop_weight = init_pop(popSize, geneLen)\n",
    "pop_bias = init_pop(popSize, geneLen)\n",
    "\n",
    "for i in range(popSize):\n",
    "    w = bin_to_dec(pop_weight[i], geneLen, min_val, max_val)\n",
    "    b = bin_to_dec(pop_bias[i], geneLen, min_val, max_val)\n",
    "    fitness[i] = cal_fitness(X, Y, w, b)\n",
    "\n",
    "for i in tqdm(range(generation)):\n",
    "    child_weight = np.full((pool_size, geneLen), -1)\n",
    "    child_bias = np.full((pool_size, geneLen), -1)\n",
    "    \n",
    "    # Selection\n",
    "    pool = roulette_wheel_selection(fitness, popSize, pool_size)\n",
    "    \n",
    "    # Crossover\n",
    "    for j in range(0, pool_size, 2):\n",
    "        c1_weight, c2_weight = crossover(pop_weight[pool[j]], pop_weight[pool[j+1]], geneLen)\n",
    "        c1_bias, c2_bias = crossover(pop_bias[pool[j]], pop_bias[pool[j+1]], geneLen)\n",
    "        \n",
    "        child_weight[j] = c1_weight\n",
    "        child_weight[j+1] = c2_weight\n",
    "        child_bias[j] = c1_bias\n",
    "        child_bias[j+1] = c2_bias\n",
    "\n",
    "    # Mutation\n",
    "    for j in range(pool_size):\n",
    "        child_weight[j] = mutation(child_weight[j], geneLen)\n",
    "        child_bias[j] = mutation(child_bias[j], geneLen)\n",
    "\n",
    "    # Replace Population\n",
    "    for j in range(pool_size):\n",
    "        pop_weight[pool[j]] = child_weight[j]\n",
    "        pop_bias[pool[j]] = child_bias[j]\n",
    "\n",
    "    # Calculate Fitness\n",
    "    for i in range(popSize):\n",
    "        w = bin_to_dec(pop_weight[i], geneLen, min_val, max_val)\n",
    "        b = bin_to_dec(pop_bias[i], geneLen, min_val, max_val)\n",
    "        fitness[i] = cal_fitness(X, Y, w, b)"
   ]
  },
  {
   "cell_type": "markdown",
   "id": "c4a6f9d4-2144-465b-9c0d-d9cea0450fc5",
   "metadata": {},
   "source": [
    "#### Result before Fitness Scalling"
   ]
  },
  {
   "cell_type": "code",
   "execution_count": 30,
   "id": "3a7498c5-99e3-474d-bbd4-bb628a46994b",
   "metadata": {},
   "outputs": [
    {
     "data": {
      "image/png": "[encoded data removed]",
      "text/plain": [
       "<Figure size 640x480 with 1 Axes>"
      ]
     },
     "metadata": {},
     "output_type": "display_data"
    }
   ],
   "source": [
    "w = bin_to_dec(pop_weight[np.argmax(fitness)], geneLen, min_val, max_val)\n",
    "b = bin_to_dec(pop_bias[np.argmax(fitness)], geneLen, min_val, max_val)\n",
    "y_hat = (X * w) + b\n",
    "\n",
    "plt.scatter(X, Y)\n",
    "plt.plot(X, y_hat)\n",
    "plt.xlabel('X-axis')\n",
    "plt.ylabel('Y-axis')\n",
    "plt.show()"
   ]
  },
  {
   "cell_type": "code",
   "execution_count": 25,
   "id": "06a246be-a3d5-4b9f-aef7-5ba3eb624ce0",
   "metadata": {},
   "outputs": [],
   "source": [
    "def linear_scaling(fitness, c=2):\n",
    "    f_avg = np.mean(fitness)\n",
    "    f_max = np.max(fitness) + 0.0000001\n",
    "    f_min = np.min(fitness)\n",
    "\n",
    "    a = (f_avg * (c - 1)) / (f_max - f_avg)\n",
    "    b = (f_avg * (f_max - (c * f_avg))) / (f_max - f_avg)\n",
    "\n",
    "    if f_min > (-1 * (b/a)):\n",
    "        return a * fitness + b\n",
    "    else:\n",
    "        a = f_avg / (f_max - f_avg)\n",
    "        b = (-1 * f_min * f_avg) / (f_max - f_avg)\n",
    "        return a * fitness + b"
   ]
  },
  {
   "cell_type": "markdown",
   "id": "58f60996-e622-4a66-828c-c83d79eba570",
   "metadata": {},
   "source": [
    "#### GA with fitness scalling"
   ]
  },
  {
   "cell_type": "code",
   "execution_count": 31,
   "id": "2e9272bf-52b8-49e9-81f1-db276c082709",
   "metadata": {},
   "outputs": [
    {
     "name": "stderr",
     "output_type": "stream",
     "text": [
      "100%|██████████████████████████████████████████████████████████████████████████████| 1000/1000 [00:53<00:00, 18.82it/s]\n"
     ]
    }
   ],
   "source": [
    "pop_weight = init_pop(popSize, geneLen)\n",
    "pop_bias = init_pop(popSize, geneLen)\n",
    "\n",
    "for i in range(popSize):\n",
    "    w = bin_to_dec(pop_weight[i], geneLen, min_val, max_val)\n",
    "    b = bin_to_dec(pop_bias[i], geneLen, min_val, max_val)\n",
    "    fitness[i] = cal_fitness(X, Y, w, b)\n",
    "\n",
    "for i in tqdm(range(generation)):\n",
    "    child_weight = np.full((pool_size, geneLen), -1)\n",
    "    child_bias = np.full((pool_size, geneLen), -1)\n",
    "\n",
    "    scaled_fitness = linear_scaling(fitness, c=4)\n",
    "    \n",
    "    # Selection\n",
    "    pool = roulette_wheel_selection(scaled_fitness, popSize, pool_size)\n",
    "    \n",
    "    # Crossover\n",
    "    for j in range(0, pool_size, 2):\n",
    "        c1_weight, c2_weight = crossover(pop_weight[pool[j]], pop_weight[pool[j+1]], geneLen)\n",
    "        c1_bias, c2_bias = crossover(pop_bias[pool[j]], pop_bias[pool[j+1]], geneLen)\n",
    "        \n",
    "        child_weight[j] = c1_weight\n",
    "        child_weight[j+1] = c2_weight\n",
    "        child_bias[j] = c1_bias\n",
    "        child_bias[j+1] = c2_bias\n",
    "\n",
    "    # Mutation\n",
    "    for j in range(pool_size):\n",
    "        child_weight[j] = mutation(child_weight[j], geneLen)\n",
    "        child_bias[j] = mutation(child_bias[j], geneLen)\n",
    "\n",
    "    # Replace Population\n",
    "    for j in range(pool_size):\n",
    "        pop_weight[pool[j]] = child_weight[j]\n",
    "        pop_bias[pool[j]] = child_bias[j]\n",
    "\n",
    "    # Calculate Fitness\n",
    "    for i in range(popSize):\n",
    "        w = bin_to_dec(pop_weight[i], geneLen, min_val, max_val)\n",
    "        b = bin_to_dec(pop_bias[i], geneLen, min_val, max_val)\n",
    "        fitness[i] = cal_fitness(X, Y, w, b)"
   ]
  },
  {
   "cell_type": "code",
   "execution_count": 32,
   "id": "b62580e9-7c01-410f-bf98-ba23a4e66126",
   "metadata": {},
   "outputs": [
    {
     "data": {
      "image/png": "[encoded data removed]",
      "text/plain": [
       "<Figure size 640x480 with 1 Axes>"
      ]
     },
     "metadata": {},
     "output_type": "display_data"
    }
   ],
   "source": [
    "w = bin_to_dec(pop_weight[np.argmax(fitness)], geneLen, min_val, max_val)\n",
    "b = bin_to_dec(pop_bias[np.argmax(fitness)], geneLen, min_val, max_val)\n",
    "y_hat = (X * w) + b\n",
    "\n",
    "plt.scatter(X, Y)\n",
    "plt.plot(X, y_hat)\n",
    "plt.xlabel('X-axis')\n",
    "plt.ylabel('Y-axis')\n",
    "plt.show()"
   ]
  },
  {
   "cell_type": "code",
   "execution_count": null,
   "id": "d14efbb8-5dbc-4ce9-9bcc-d23b7c66744a",
   "metadata": {},
   "outputs": [],
   "source": []
  }
 ],
 "metadata": {
  "kernelspec": {
   "display_name": "Python 3 (ipykernel)",
   "language": "python",
   "name": "python3"
  },
  "language_info": {
   "codemirror_mode": {
    "name": "ipython",
    "version": 3
   },
   "file_extension": ".py",
   "mimetype": "text/x-python",
   "name": "python",
   "nbconvert_exporter": "python",
   "pygments_lexer": "ipython3",
   "version": "3.12.3"
  }
 },
 "nbformat": 4,
 "nbformat_minor": 5
}
